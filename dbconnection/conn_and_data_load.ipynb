{
 "cells": [
  {
   "cell_type": "code",
   "execution_count": null,
   "metadata": {},
   "outputs": [],
   "source": [
    "import psycopg2\n",
    "import json\n",
    "import os"
   ]
  },
  {
   "cell_type": "markdown",
   "metadata": {},
   "source": [
    "### Connection with the database"
   ]
  },
  {
   "cell_type": "code",
   "execution_count": null,
   "metadata": {},
   "outputs": [],
   "source": [
    "with open(\"credentials.json\", \"r\", encoding=\"utf-8\") as file:\n",
    "    credentials = json.load(file)"
   ]
  },
  {
   "cell_type": "code",
   "execution_count": null,
   "metadata": {},
   "outputs": [],
   "source": [
    "db_host = credentials[\"db_host\"]\n",
    "db_name = credentials[\"db_name\"]\n",
    "db_user = credentials[\"db_user\"]\n",
    "db_password = credentials[\"db_password\"]\n",
    "db_port = credentials[\"db_port\"] \n",
    "\n",
    "conn = psycopg2.connect(\n",
    "    host=db_host,\n",
    "    dbname=db_name,\n",
    "    user=db_user,\n",
    "    password=db_password,\n",
    "    port=db_port\n",
    ")"
   ]
  },
  {
   "cell_type": "code",
   "execution_count": null,
   "metadata": {},
   "outputs": [],
   "source": [
    "cur = conn.cursor()\n",
    "\n",
    "cur.execute(\"\"\"CREATE TABLE leukemia_raw_data (\n",
    "            patient_id SERIAL PRIMARY KEY,\n",
    "            age INTEGER NOT NULL,\n",
    "            gender VARCHAR(10) NOT NULL,\n",
    "            country VARCHAR(100) NOT NULL,\n",
    "            wbc_count INTEGER NOT NULL,\n",
    "            rbc_count NUMERIC(5,2) NOT NULL,\n",
    "            platelet_count INTEGER NOT NULL,\n",
    "            hemoglobin_level NUMERIC(5,2) NOT NULL,\n",
    "            bone_marrow_blasts INTEGER NOT NULL,\n",
    "            genetic_mutation VARCHAR(3) CHECK (genetic_mutation IN ('Yes', 'No')),\n",
    "            family_history VARCHAR(3) CHECK (family_history IN ('Yes', 'No')),\n",
    "            smoking_status VARCHAR(50),\n",
    "            alcohol_consumption VARCHAR(3) CHECK (alcohol_consumption IN ('Yes', 'No')),\n",
    "            radiation_exposure VARCHAR(3) CHECK (radiation_exposure IN ('Yes', 'No')),\n",
    "            infection_history VARCHAR(3) CHECK (infection_history IN ('Yes', 'No')),\n",
    "            bmi NUMERIC(5,2) NOT NULL,\n",
    "            chronic_illness VARCHAR(3) CHECK (chronic_illness IN ('Yes', 'No')),\n",
    "            immune_disorders VARCHAR(3) CHECK (immune_disorders IN ('Yes', 'No')),\n",
    "            ethnicity VARCHAR(50),\n",
    "            socioeconomic_status VARCHAR(50),\n",
    "            urban_rural VARCHAR(50),\n",
    "            leukemia_status VARCHAR(10) CHECK (leukemia_status IN ('Positive', 'Negative'))\n",
    "        );\n",
    "\"\"\")\n",
    "conn.commit()"
   ]
  },
  {
   "cell_type": "code",
   "execution_count": null,
   "metadata": {},
   "outputs": [],
   "source": [
    "os.chdir(\"..\")\n",
    "print(os.getcwd())"
   ]
  },
  {
   "cell_type": "code",
   "execution_count": null,
   "metadata": {},
   "outputs": [],
   "source": [
    "csv_file_path = os.path.join(os.getcwd(), \"data\", \"biased_leukemia_dataset.csv\")\n",
    "\n",
    "table_name = 'leukemia_raw_data'\n",
    "\n",
    "copy_sql = f\"\"\"\n",
    "           COPY {table_name} FROM stdin \n",
    "           DELIMITER as ','\n",
    "           CSV HEADER\n",
    "           \"\"\"\n",
    "with open(csv_file_path, 'r') as f:\n",
    "    cur.copy_expert(sql=copy_sql, file=f)\n",
    "\n",
    "conn.commit()\n",
    "\n",
    "conn.close()"
   ]
  }
 ],
 "metadata": {
  "kernelspec": {
   "display_name": "venv",
   "language": "python",
   "name": "python3"
  },
  "language_info": {
   "codemirror_mode": {
    "name": "ipython",
    "version": 3
   },
   "file_extension": ".py",
   "mimetype": "text/x-python",
   "name": "python",
   "nbconvert_exporter": "python",
   "pygments_lexer": "ipython3",
   "version": "3.11.9"
  }
 },
 "nbformat": 4,
 "nbformat_minor": 2
}
