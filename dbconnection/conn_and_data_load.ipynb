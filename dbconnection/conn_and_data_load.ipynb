{
 "cells": [
  {
   "cell_type": "code",
   "execution_count": null,
   "metadata": {},
   "outputs": [],
   "source": [
    "import psycopg2\n",
    "import json\n",
    "import os"
   ]
  },
  {
   "cell_type": "markdown",
   "metadata": {},
   "source": [
    "###Connection with the database"
   ]
  },
  {
   "cell_type": "code",
   "execution_count": 2,
   "metadata": {},
   "outputs": [],
   "source": [
    "with open(\"credentials.json\", \"r\", encoding=\"utf-8\") as file:\n",
    "    credentials = json.load(file)"
   ]
  },
  {
   "cell_type": "code",
   "execution_count": 3,
   "metadata": {},
   "outputs": [],
   "source": [
    "db_host = credentials[\"db_host\"]\n",
    "db_name = credentials[\"db_name\"]\n",
    "db_user = credentials[\"db_user\"]\n",
    "db_password = credentials[\"db_password\"]\n",
    "\n",
    "conn = psycopg2.connect(\n",
    "    host=db_host,\n",
    "    dbname=db_name,\n",
    "    user=db_user,\n",
    "    password=db_password\n",
    ")"
   ]
  },
  {
   "cell_type": "code",
   "execution_count": 4,
   "metadata": {},
   "outputs": [
    {
     "ename": "DuplicateTable",
     "evalue": "la relación «leukemia_raw_data» ya existe\n",
     "output_type": "error",
     "traceback": [
      "\u001b[1;31m---------------------------------------------------------------------------\u001b[0m",
      "\u001b[1;31mDuplicateTable\u001b[0m                            Traceback (most recent call last)",
      "Cell \u001b[1;32mIn[4], line 3\u001b[0m\n\u001b[0;32m      1\u001b[0m cur \u001b[38;5;241m=\u001b[39m conn\u001b[38;5;241m.\u001b[39mcursor()\n\u001b[1;32m----> 3\u001b[0m \u001b[43mcur\u001b[49m\u001b[38;5;241;43m.\u001b[39;49m\u001b[43mexecute\u001b[49m\u001b[43m(\u001b[49m\u001b[38;5;124;43m\"\"\"\u001b[39;49m\u001b[38;5;124;43mCREATE TABLE leukemia_raw_data (\u001b[39;49m\n\u001b[0;32m      4\u001b[0m \u001b[38;5;124;43m            patient_id SERIAL PRIMARY KEY,\u001b[39;49m\n\u001b[0;32m      5\u001b[0m \u001b[38;5;124;43m            age INTEGER NOT NULL,\u001b[39;49m\n\u001b[0;32m      6\u001b[0m \u001b[38;5;124;43m            gender VARCHAR(10) NOT NULL,\u001b[39;49m\n\u001b[0;32m      7\u001b[0m \u001b[38;5;124;43m            country VARCHAR(100) NOT NULL,\u001b[39;49m\n\u001b[0;32m      8\u001b[0m \u001b[38;5;124;43m            wbc_count INTEGER NOT NULL,\u001b[39;49m\n\u001b[0;32m      9\u001b[0m \u001b[38;5;124;43m            rbc_count NUMERIC(5,2) NOT NULL,\u001b[39;49m\n\u001b[0;32m     10\u001b[0m \u001b[38;5;124;43m            platelet_count INTEGER NOT NULL,\u001b[39;49m\n\u001b[0;32m     11\u001b[0m \u001b[38;5;124;43m            hemoglobin_level NUMERIC(5,2) NOT NULL,\u001b[39;49m\n\u001b[0;32m     12\u001b[0m \u001b[38;5;124;43m            bone_marrow_blasts INTEGER NOT NULL,\u001b[39;49m\n\u001b[0;32m     13\u001b[0m \u001b[38;5;124;43m            genetic_mutation VARCHAR(3) CHECK (genetic_mutation IN (\u001b[39;49m\u001b[38;5;124;43m'\u001b[39;49m\u001b[38;5;124;43mYes\u001b[39;49m\u001b[38;5;124;43m'\u001b[39;49m\u001b[38;5;124;43m, \u001b[39;49m\u001b[38;5;124;43m'\u001b[39;49m\u001b[38;5;124;43mNo\u001b[39;49m\u001b[38;5;124;43m'\u001b[39;49m\u001b[38;5;124;43m)),\u001b[39;49m\n\u001b[0;32m     14\u001b[0m \u001b[38;5;124;43m            family_history VARCHAR(3) CHECK (family_history IN (\u001b[39;49m\u001b[38;5;124;43m'\u001b[39;49m\u001b[38;5;124;43mYes\u001b[39;49m\u001b[38;5;124;43m'\u001b[39;49m\u001b[38;5;124;43m, \u001b[39;49m\u001b[38;5;124;43m'\u001b[39;49m\u001b[38;5;124;43mNo\u001b[39;49m\u001b[38;5;124;43m'\u001b[39;49m\u001b[38;5;124;43m)),\u001b[39;49m\n\u001b[0;32m     15\u001b[0m \u001b[38;5;124;43m            smoking_status VARCHAR(50),\u001b[39;49m\n\u001b[0;32m     16\u001b[0m \u001b[38;5;124;43m            alcohol_consumption VARCHAR(3) CHECK (alcohol_consumption IN (\u001b[39;49m\u001b[38;5;124;43m'\u001b[39;49m\u001b[38;5;124;43mYes\u001b[39;49m\u001b[38;5;124;43m'\u001b[39;49m\u001b[38;5;124;43m, \u001b[39;49m\u001b[38;5;124;43m'\u001b[39;49m\u001b[38;5;124;43mNo\u001b[39;49m\u001b[38;5;124;43m'\u001b[39;49m\u001b[38;5;124;43m)),\u001b[39;49m\n\u001b[0;32m     17\u001b[0m \u001b[38;5;124;43m            radiation_exposure VARCHAR(3) CHECK (radiation_exposure IN (\u001b[39;49m\u001b[38;5;124;43m'\u001b[39;49m\u001b[38;5;124;43mYes\u001b[39;49m\u001b[38;5;124;43m'\u001b[39;49m\u001b[38;5;124;43m, \u001b[39;49m\u001b[38;5;124;43m'\u001b[39;49m\u001b[38;5;124;43mNo\u001b[39;49m\u001b[38;5;124;43m'\u001b[39;49m\u001b[38;5;124;43m)),\u001b[39;49m\n\u001b[0;32m     18\u001b[0m \u001b[38;5;124;43m            infection_history VARCHAR(3) CHECK (infection_history IN (\u001b[39;49m\u001b[38;5;124;43m'\u001b[39;49m\u001b[38;5;124;43mYes\u001b[39;49m\u001b[38;5;124;43m'\u001b[39;49m\u001b[38;5;124;43m, \u001b[39;49m\u001b[38;5;124;43m'\u001b[39;49m\u001b[38;5;124;43mNo\u001b[39;49m\u001b[38;5;124;43m'\u001b[39;49m\u001b[38;5;124;43m)),\u001b[39;49m\n\u001b[0;32m     19\u001b[0m \u001b[38;5;124;43m            bmi NUMERIC(5,2) NOT NULL,\u001b[39;49m\n\u001b[0;32m     20\u001b[0m \u001b[38;5;124;43m            chronic_illness VARCHAR(3) CHECK (chronic_illness IN (\u001b[39;49m\u001b[38;5;124;43m'\u001b[39;49m\u001b[38;5;124;43mYes\u001b[39;49m\u001b[38;5;124;43m'\u001b[39;49m\u001b[38;5;124;43m, \u001b[39;49m\u001b[38;5;124;43m'\u001b[39;49m\u001b[38;5;124;43mNo\u001b[39;49m\u001b[38;5;124;43m'\u001b[39;49m\u001b[38;5;124;43m)),\u001b[39;49m\n\u001b[0;32m     21\u001b[0m \u001b[38;5;124;43m            immune_disorders VARCHAR(3) CHECK (immune_disorders IN (\u001b[39;49m\u001b[38;5;124;43m'\u001b[39;49m\u001b[38;5;124;43mYes\u001b[39;49m\u001b[38;5;124;43m'\u001b[39;49m\u001b[38;5;124;43m, \u001b[39;49m\u001b[38;5;124;43m'\u001b[39;49m\u001b[38;5;124;43mNo\u001b[39;49m\u001b[38;5;124;43m'\u001b[39;49m\u001b[38;5;124;43m)),\u001b[39;49m\n\u001b[0;32m     22\u001b[0m \u001b[38;5;124;43m            ethnicity VARCHAR(50),\u001b[39;49m\n\u001b[0;32m     23\u001b[0m \u001b[38;5;124;43m            socioeconomic_status VARCHAR(50),\u001b[39;49m\n\u001b[0;32m     24\u001b[0m \u001b[38;5;124;43m            urban_rural VARCHAR(50),\u001b[39;49m\n\u001b[0;32m     25\u001b[0m \u001b[38;5;124;43m            leukemia_status VARCHAR(10) CHECK (leukemia_status IN (\u001b[39;49m\u001b[38;5;124;43m'\u001b[39;49m\u001b[38;5;124;43mPositive\u001b[39;49m\u001b[38;5;124;43m'\u001b[39;49m\u001b[38;5;124;43m, \u001b[39;49m\u001b[38;5;124;43m'\u001b[39;49m\u001b[38;5;124;43mNegative\u001b[39;49m\u001b[38;5;124;43m'\u001b[39;49m\u001b[38;5;124;43m))\u001b[39;49m\n\u001b[0;32m     26\u001b[0m \u001b[38;5;124;43m        );\u001b[39;49m\n\u001b[0;32m     27\u001b[0m \u001b[38;5;124;43m\"\"\"\u001b[39;49m\u001b[43m)\u001b[49m\n\u001b[0;32m     28\u001b[0m conn\u001b[38;5;241m.\u001b[39mcommit()\n",
      "\u001b[1;31mDuplicateTable\u001b[0m: la relación «leukemia_raw_data» ya existe\n"
     ]
    }
   ],
   "source": [
    "cur = conn.cursor()\n",
    "\n",
    "cur.execute(\"\"\"CREATE TABLE leukemia_raw_data (\n",
    "            patient_id SERIAL PRIMARY KEY,\n",
    "            age INTEGER NOT NULL,\n",
    "            gender VARCHAR(10) NOT NULL,\n",
    "            country VARCHAR(100) NOT NULL,\n",
    "            wbc_count INTEGER NOT NULL,\n",
    "            rbc_count NUMERIC(5,2) NOT NULL,\n",
    "            platelet_count INTEGER NOT NULL,\n",
    "            hemoglobin_level NUMERIC(5,2) NOT NULL,\n",
    "            bone_marrow_blasts INTEGER NOT NULL,\n",
    "            genetic_mutation VARCHAR(3) CHECK (genetic_mutation IN ('Yes', 'No')),\n",
    "            family_history VARCHAR(3) CHECK (family_history IN ('Yes', 'No')),\n",
    "            smoking_status VARCHAR(50),\n",
    "            alcohol_consumption VARCHAR(3) CHECK (alcohol_consumption IN ('Yes', 'No')),\n",
    "            radiation_exposure VARCHAR(3) CHECK (radiation_exposure IN ('Yes', 'No')),\n",
    "            infection_history VARCHAR(3) CHECK (infection_history IN ('Yes', 'No')),\n",
    "            bmi NUMERIC(5,2) NOT NULL,\n",
    "            chronic_illness VARCHAR(3) CHECK (chronic_illness IN ('Yes', 'No')),\n",
    "            immune_disorders VARCHAR(3) CHECK (immune_disorders IN ('Yes', 'No')),\n",
    "            ethnicity VARCHAR(50),\n",
    "            socioeconomic_status VARCHAR(50),\n",
    "            urban_rural VARCHAR(50),\n",
    "            leukemia_status VARCHAR(10) CHECK (leukemia_status IN ('Positive', 'Negative'))\n",
    "        );\n",
    "\"\"\")\n",
    "conn.commit()"
   ]
  },
  {
   "cell_type": "code",
   "execution_count": null,
   "metadata": {},
   "outputs": [
    {
     "name": "stdout",
     "output_type": "stream",
     "text": [
      "c:\\Users\\valen\\Desktop\\Leukemia-Cancer-Risk-ETL\n"
     ]
    }
   ],
   "source": [
    "os.chdir(\"..\")\n",
    "print(os.getcwd())\n"
   ]
  },
  {
   "cell_type": "code",
   "execution_count": null,
   "metadata": {},
   "outputs": [],
   "source": [
    "\n",
    "#csv_file_path= \"./data/biased_leukemia_dataset.csv\"\n",
    "csv_file_path = os.path.join(os.getcwd(), \"data\", \"biased_leukemia_dataset.csv\")\n",
    "\n",
    "table_name = 'leukemia_raw_data'\n",
    "\n",
    "copy_sql = f\"\"\"\n",
    "           COPY {table_name} FROM stdin \n",
    "           DELIMITER as ','\n",
    "           CSV HEADER\n",
    "           \"\"\"\n",
    "with open(csv_file_path, 'r') as f:\n",
    "    cur.copy_expert(sql=copy_sql, file=f)\n",
    "\n",
    "conn.commit()\n",
    "\n",
    "conn.close()"
   ]
  }
 ],
 "metadata": {
  "kernelspec": {
   "display_name": "venv",
   "language": "python",
   "name": "python3"
  },
  "language_info": {
   "codemirror_mode": {
    "name": "ipython",
    "version": 3
   },
   "file_extension": ".py",
   "mimetype": "text/x-python",
   "name": "python",
   "nbconvert_exporter": "python",
   "pygments_lexer": "ipython3",
   "version": "3.11.9"
  }
 },
 "nbformat": 4,
 "nbformat_minor": 2
}
