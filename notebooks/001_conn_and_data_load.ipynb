{
 "cells": [
  {
   "cell_type": "markdown",
   "metadata": {},
   "source": [
    "# Database Connection and Initial Data Load  \n",
    "\n",
    "This notebook is part of the data analysis workflow. Its objective is to connect to the database and extract raw data for further processing."
   ]
  },
  {
   "cell_type": "markdown",
   "metadata": {},
   "source": [
    "To begin, the necessary libraries are imported to ensure the correct functioning of the code."
   ]
  },
  {
   "cell_type": "code",
   "execution_count": 1,
   "metadata": {},
   "outputs": [],
   "source": [
    "import os\n",
    "import json\n",
    "import pandas as pd\n",
    "from sqlalchemy import create_engine, text\n",
    "from sqlalchemy.exc import OperationalError"
   ]
  },
  {
   "cell_type": "markdown",
   "metadata": {},
   "source": [
    "## Connection Configuration  \n",
    "The credentials are read and extracted to establish a connection to PostgreSQL. Then, the connection to the database stored in PostgreSQL is established."
   ]
  },
  {
   "cell_type": "code",
   "execution_count": 2,
   "metadata": {},
   "outputs": [
    {
     "name": "stdout",
     "output_type": "stream",
     "text": [
      "/home/ubuntu/Escritorio\n"
     ]
    }
   ],
   "source": [
    "try:\n",
    "    os.chdir(\"../../Leukemia-Cancer-Risk-ETL\")\n",
    "except FileNotFoundError:\n",
    "    print(\"\"\"\n",
    "        FileNotFoundError - The directory may not exist or you are not located in the specified path.\n",
    "        \"\"\")\n",
    "os.chdir(\"..\")\n",
    "print(os.getcwd())"
   ]
  },
  {
   "cell_type": "code",
   "execution_count": 3,
   "metadata": {},
   "outputs": [],
   "source": [
    "with open(\"Leukemia-Cancer-Risk-ETL/credentials.json\", \"r\", encoding = \"utf-8\") as f:\n",
    "    credentials = json.load(f)  \n",
    "\n",
    "db_host = credentials[\"db_host\"]\n",
    "db_name = credentials[\"db_name\"]\n",
    "db_user = credentials[\"db_user\"]\n",
    "db_password = credentials[\"db_password\"]\n",
    "\n",
    "default_engine = create_engine(f\"postgresql://{db_user}:{db_password}@{db_host}:5432/postgres\", isolation_level = \"AUTOCOMMIT\")"
   ]
  },
  {
   "cell_type": "code",
   "execution_count": 4,
   "metadata": {},
   "outputs": [
    {
     "name": "stdout",
     "output_type": "stream",
     "text": [
      "Database already exists\n"
     ]
    }
   ],
   "source": [
    "try:\n",
    "    with default_engine.connect() as connection:\n",
    "        result = connection.execute(text(\"SELECT 1 FROM pg_database WHERE datname=:dbname\"), {\"dbname\": db_name})\n",
    "        exists = result.fetchone()\n",
    "        if not exists:\n",
    "            connection.execute(text(f\"CREATE DATABASE {db_name}\"))\n",
    "            print(\"Database created\")\n",
    "        else:\n",
    "            print(\"Database already exists\")\n",
    "except OperationalError as e:\n",
    "    print(f\"PostgreSQL connection failed: {e}\")"
   ]
  },
  {
   "cell_type": "code",
   "execution_count": 5,
   "metadata": {},
   "outputs": [],
   "source": [
    "with open(\"Leukemia-Cancer-Risk-ETL/credentials.json\", \"r\", encoding = \"utf-8\") as f:\n",
    "    credentials = json.load(f)  \n",
    "\n",
    "db_host = credentials[\"db_host\"]\n",
    "db_name = credentials[\"db_name\"]\n",
    "db_user = credentials[\"db_user\"]\n",
    "db_password = credentials[\"db_password\"]\n",
    "\n",
    "engine = create_engine(f\"postgresql+psycopg2://{db_user}:{db_password}@{db_host}:5432/{db_name}\")"
   ]
  },
  {
   "cell_type": "code",
   "execution_count": null,
   "metadata": {},
   "outputs": [],
   "source": []
  },
  {
   "cell_type": "code",
   "execution_count": 6,
   "metadata": {},
   "outputs": [
    {
     "name": "stdout",
     "output_type": "stream",
     "text": [
      "Error al insertar datos: 'Connection' object has no attribute 'cursor'\n"
     ]
    },
    {
     "name": "stderr",
     "output_type": "stream",
     "text": [
      "/tmp/ipykernel_21575/4197481082.py:5: UserWarning: pandas only supports SQLAlchemy connectable (engine/connection) or database string URI or sqlite3 DBAPI2 connection. Other DBAPI2 objects are not tested. Please consider using SQLAlchemy.\n",
      "  leukemia_raw_data.to_sql('leukemia_raw_data', con = connection , if_exists='replace', index=False)\n"
     ]
    }
   ],
   "source": [
    "leukemia_raw_data = pd.read_csv(\"Leukemia-Cancer-Risk-ETL/data/biased_leukemia_dataset.csv\", sep=',', encoding='utf-8')\n",
    "\n",
    "try:\n",
    "    with engine.connect() as connection:\n",
    "        leukemia_raw_data.to_sql('leukemia_raw_data', con = connection , if_exists='replace', index=False)\n",
    "        print(\"Datos insertados correctamente en la tabla 'leukemia_raw_data'.\")\n",
    "except Exception as e:\n",
    "    print(f\"Error al insertar datos: {e}\")\n"
   ]
  }
 ],
 "metadata": {
  "kernelspec": {
   "display_name": "venv",
   "language": "python",
   "name": "python3"
  },
  "language_info": {
   "codemirror_mode": {
    "name": "ipython",
    "version": 3
   },
   "file_extension": ".py",
   "mimetype": "text/x-python",
   "name": "python",
   "nbconvert_exporter": "python",
   "pygments_lexer": "ipython3",
   "version": "3.12.3"
  }
 },
 "nbformat": 4,
 "nbformat_minor": 2
}
