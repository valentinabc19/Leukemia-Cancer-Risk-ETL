{
 "cells": [
  {
   "cell_type": "markdown",
   "metadata": {},
   "source": [
    "# Database Connection and Initial Data Load  \n",
    "\n",
    "This notebook is part of the data analysis workflow. Its objective is to connect to the database and extract raw data for further processing."
   ]
  },
  {
   "cell_type": "markdown",
   "metadata": {},
   "source": [
    "To begin, the necessary libraries are imported to ensure the correct functioning of the code."
   ]
  },
  {
   "cell_type": "code",
   "execution_count": 1,
   "metadata": {},
   "outputs": [],
   "source": [
    "import psycopg2\n",
    "import json\n",
    "import os"
   ]
  },
  {
   "cell_type": "markdown",
   "metadata": {},
   "source": [
    "## Connection Configuration  \n",
    "The credentials are read and extracted to establish a connection to PostgreSQL. Then, the connection to the database stored in PostgreSQL is established."
   ]
  },
  {
   "cell_type": "code",
   "execution_count": 2,
   "metadata": {},
   "outputs": [],
   "source": [
    "with open(\"/home/user/leucemia/Leukemia-Cancer-Risk-ETL/notebooks/credentials.json\", \"r\", encoding=\"utf-8\") as file:\n",
    "    credentials = json.load(file)"
   ]
  },
  {
   "cell_type": "code",
   "execution_count": 3,
   "metadata": {},
   "outputs": [],
   "source": [
    "db_host = credentials[\"db_host\"]\n",
    "db_name = credentials[\"db_name\"]\n",
    "db_user = credentials[\"db_user\"]\n",
    "db_password = credentials[\"db_password\"]\n",
    "db_port = credentials[\"db_port\"] \n",
    "\n",
    "conn = psycopg2.connect(\n",
    "    host=db_host,\n",
    "    dbname=db_name,\n",
    "    user=db_user,\n",
    "    password=db_password,\n",
    "    port=db_port\n",
    ")"
   ]
  },
  {
   "cell_type": "markdown",
   "metadata": {},
   "source": [
    "A cursor is established to execute SQL commands, followed by the creation of a table in the database to store the raw data."
   ]
  },
  {
   "cell_type": "code",
   "execution_count": 4,
   "metadata": {},
   "outputs": [
    {
     "ename": "DuplicateTable",
     "evalue": "relation \"leukemia_raw_data\" already exists\n",
     "output_type": "error",
     "traceback": [
      "\u001b[0;31m---------------------------------------------------------------------------\u001b[0m",
      "\u001b[0;31mDuplicateTable\u001b[0m                            Traceback (most recent call last)",
      "Cell \u001b[0;32mIn[4], line 3\u001b[0m\n\u001b[1;32m      1\u001b[0m cur \u001b[38;5;241m=\u001b[39m conn\u001b[38;5;241m.\u001b[39mcursor()\n\u001b[0;32m----> 3\u001b[0m \u001b[43mcur\u001b[49m\u001b[38;5;241;43m.\u001b[39;49m\u001b[43mexecute\u001b[49m\u001b[43m(\u001b[49m\u001b[38;5;124;43m\"\"\"\u001b[39;49m\u001b[38;5;124;43mCREATE TABLE leukemia_raw_data (\u001b[39;49m\n\u001b[1;32m      4\u001b[0m \u001b[38;5;124;43m            patient_id SERIAL PRIMARY KEY,\u001b[39;49m\n\u001b[1;32m      5\u001b[0m \u001b[38;5;124;43m            age INTEGER,\u001b[39;49m\n\u001b[1;32m      6\u001b[0m \u001b[38;5;124;43m            gender TEXT ,\u001b[39;49m\n\u001b[1;32m      7\u001b[0m \u001b[38;5;124;43m            country TEXT,\u001b[39;49m\n\u001b[1;32m      8\u001b[0m \u001b[38;5;124;43m            wbc_count INTEGER,\u001b[39;49m\n\u001b[1;32m      9\u001b[0m \u001b[38;5;124;43m            rbc_count NUMERIC(5,2),\u001b[39;49m\n\u001b[1;32m     10\u001b[0m \u001b[38;5;124;43m            platelet_count INTEGER,\u001b[39;49m\n\u001b[1;32m     11\u001b[0m \u001b[38;5;124;43m            hemoglobin_level NUMERIC(5,2),\u001b[39;49m\n\u001b[1;32m     12\u001b[0m \u001b[38;5;124;43m            bone_marrow_blasts INTEGER,\u001b[39;49m\n\u001b[1;32m     13\u001b[0m \u001b[38;5;124;43m            genetic_mutation TEXT,\u001b[39;49m\n\u001b[1;32m     14\u001b[0m \u001b[38;5;124;43m            family_history TEXT,\u001b[39;49m\n\u001b[1;32m     15\u001b[0m \u001b[38;5;124;43m            smoking_status TEXT,\u001b[39;49m\n\u001b[1;32m     16\u001b[0m \u001b[38;5;124;43m            alcohol_consumption TEXT,\u001b[39;49m\n\u001b[1;32m     17\u001b[0m \u001b[38;5;124;43m            radiation_exposure TEXT,\u001b[39;49m\n\u001b[1;32m     18\u001b[0m \u001b[38;5;124;43m            infection_history TEXT,\u001b[39;49m\n\u001b[1;32m     19\u001b[0m \u001b[38;5;124;43m            bmi NUMERIC(5,2),\u001b[39;49m\n\u001b[1;32m     20\u001b[0m \u001b[38;5;124;43m            chronic_illness TEXT,\u001b[39;49m\n\u001b[1;32m     21\u001b[0m \u001b[38;5;124;43m            immune_disorders TEXT,\u001b[39;49m\n\u001b[1;32m     22\u001b[0m \u001b[38;5;124;43m            ethnicity TEXT,\u001b[39;49m\n\u001b[1;32m     23\u001b[0m \u001b[38;5;124;43m            socioeconomic_status TEXT,\u001b[39;49m\n\u001b[1;32m     24\u001b[0m \u001b[38;5;124;43m            urban_rural TEXT,\u001b[39;49m\n\u001b[1;32m     25\u001b[0m \u001b[38;5;124;43m            leukemia_status TEXT\u001b[39;49m\n\u001b[1;32m     26\u001b[0m \u001b[38;5;124;43m        );\u001b[39;49m\n\u001b[1;32m     27\u001b[0m \u001b[38;5;124;43m\"\"\"\u001b[39;49m\u001b[43m)\u001b[49m\n\u001b[1;32m     28\u001b[0m conn\u001b[38;5;241m.\u001b[39mcommit()\n",
      "\u001b[0;31mDuplicateTable\u001b[0m: relation \"leukemia_raw_data\" already exists\n"
     ]
    }
   ],
   "source": [
    "cur = conn.cursor()\n",
    "\n",
    "cur.execute(\"\"\"CREATE TABLE leukemia_raw_data (\n",
    "            patient_id SERIAL PRIMARY KEY,\n",
    "            age INTEGER,\n",
    "            gender TEXT ,\n",
    "            country TEXT,\n",
    "            wbc_count INTEGER,\n",
    "            rbc_count NUMERIC(5,2),\n",
    "            platelet_count INTEGER,\n",
    "            hemoglobin_level NUMERIC(5,2),\n",
    "            bone_marrow_blasts INTEGER,\n",
    "            genetic_mutation TEXT,\n",
    "            family_history TEXT,\n",
    "            smoking_status TEXT,\n",
    "            alcohol_consumption TEXT,\n",
    "            radiation_exposure TEXT,\n",
    "            infection_history TEXT,\n",
    "            bmi NUMERIC(5,2),\n",
    "            chronic_illness TEXT,\n",
    "            immune_disorders TEXT,\n",
    "            ethnicity TEXT,\n",
    "            socioeconomic_status TEXT,\n",
    "            urban_rural TEXT,\n",
    "            leukemia_status TEXT\n",
    "        );\n",
    "\"\"\")\n",
    "conn.commit()"
   ]
  },
  {
   "cell_type": "markdown",
   "metadata": {},
   "source": [
    "The working directory is changed so that the system can locate the dataset."
   ]
  },
  {
   "cell_type": "code",
   "execution_count": 5,
   "metadata": {},
   "outputs": [
    {
     "name": "stdout",
     "output_type": "stream",
     "text": [
      "/home/user/leucemia/Leukemia-Cancer-Risk-ETL\n"
     ]
    }
   ],
   "source": [
    "os.chdir(\"..\")\n",
    "print(os.getcwd())"
   ]
  },
  {
   "cell_type": "code",
   "execution_count": 6,
   "metadata": {},
   "outputs": [],
   "source": [
    "conn.rollback()"
   ]
  },
  {
   "cell_type": "markdown",
   "metadata": {},
   "source": [
    "Finally, the CSV file path is built, and the data is loaded into the previously created table."
   ]
  },
  {
   "cell_type": "code",
   "execution_count": 7,
   "metadata": {},
   "outputs": [
    {
     "ename": "UniqueViolation",
     "evalue": "duplicate key value violates unique constraint \"leukemia_raw_data_pkey\"\nDETAIL:  Key (patient_id)=(1) already exists.\nCONTEXT:  COPY leukemia_raw_data, line 2\n",
     "output_type": "error",
     "traceback": [
      "\u001b[0;31m---------------------------------------------------------------------------\u001b[0m",
      "\u001b[0;31mUniqueViolation\u001b[0m                           Traceback (most recent call last)",
      "Cell \u001b[0;32mIn[7], line 11\u001b[0m\n\u001b[1;32m      5\u001b[0m copy_sql \u001b[38;5;241m=\u001b[39m \u001b[38;5;124mf\u001b[39m\u001b[38;5;124m\"\"\"\u001b[39m\n\u001b[1;32m      6\u001b[0m \u001b[38;5;124m           COPY \u001b[39m\u001b[38;5;132;01m{\u001b[39;00mtable_name\u001b[38;5;132;01m}\u001b[39;00m\u001b[38;5;124m FROM stdin \u001b[39m\n\u001b[1;32m      7\u001b[0m \u001b[38;5;124m           DELIMITER as \u001b[39m\u001b[38;5;124m'\u001b[39m\u001b[38;5;124m,\u001b[39m\u001b[38;5;124m'\u001b[39m\n\u001b[1;32m      8\u001b[0m \u001b[38;5;124m           CSV HEADER\u001b[39m\n\u001b[1;32m      9\u001b[0m \u001b[38;5;124m           \u001b[39m\u001b[38;5;124m\"\"\"\u001b[39m\n\u001b[1;32m     10\u001b[0m \u001b[38;5;28;01mwith\u001b[39;00m \u001b[38;5;28mopen\u001b[39m(csv_file_path, \u001b[38;5;124m'\u001b[39m\u001b[38;5;124mr\u001b[39m\u001b[38;5;124m'\u001b[39m) \u001b[38;5;28;01mas\u001b[39;00m f:\n\u001b[0;32m---> 11\u001b[0m     \u001b[43mcur\u001b[49m\u001b[38;5;241;43m.\u001b[39;49m\u001b[43mcopy_expert\u001b[49m\u001b[43m(\u001b[49m\u001b[43msql\u001b[49m\u001b[38;5;241;43m=\u001b[39;49m\u001b[43mcopy_sql\u001b[49m\u001b[43m,\u001b[49m\u001b[43m \u001b[49m\u001b[43mfile\u001b[49m\u001b[38;5;241;43m=\u001b[39;49m\u001b[43mf\u001b[49m\u001b[43m)\u001b[49m\n\u001b[1;32m     13\u001b[0m conn\u001b[38;5;241m.\u001b[39mcommit()\n\u001b[1;32m     15\u001b[0m conn\u001b[38;5;241m.\u001b[39mclose()\n",
      "\u001b[0;31mUniqueViolation\u001b[0m: duplicate key value violates unique constraint \"leukemia_raw_data_pkey\"\nDETAIL:  Key (patient_id)=(1) already exists.\nCONTEXT:  COPY leukemia_raw_data, line 2\n"
     ]
    }
   ],
   "source": [
    "csv_file_path = os.path.join(os.getcwd(), \"data\", \"biased_leukemia_dataset.csv\")\n",
    "\n",
    "table_name = 'leukemia_raw_data'\n",
    "\n",
    "copy_sql = f\"\"\"\n",
    "           COPY {table_name} FROM stdin \n",
    "           DELIMITER as ','\n",
    "           CSV HEADER\n",
    "           \"\"\"\n",
    "with open(csv_file_path, 'r') as f:\n",
    "    cur.copy_expert(sql=copy_sql, file=f)\n",
    "\n",
    "conn.commit()\n",
    "\n",
    "conn.close()"
   ]
  }
 ],
 "metadata": {
  "kernelspec": {
   "display_name": "venv",
   "language": "python",
   "name": "python3"
  },
  "language_info": {
   "codemirror_mode": {
    "name": "ipython",
    "version": 3
   },
   "file_extension": ".py",
   "mimetype": "text/x-python",
   "name": "python",
   "nbconvert_exporter": "python",
   "pygments_lexer": "ipython3",
   "version": "3.12.3"
  }
 },
 "nbformat": 4,
 "nbformat_minor": 2
}
