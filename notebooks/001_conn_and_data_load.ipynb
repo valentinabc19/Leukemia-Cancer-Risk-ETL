{
 "cells": [
  {
   "cell_type": "markdown",
   "metadata": {},
   "source": [
    "# Conexión a Base de Datos y Carga Inicial de Datos\n",
    "\n",
    "Este notebook forma parte del flujo de trabajo para el análisis de datos. Su objetivo es conectar con la base de datos y extraer los datos brutos para su posterior procesamiento."
   ]
  },
  {
   "cell_type": "markdown",
   "metadata": {},
   "source": [
    "Para empezar se importan las librerias necesarias para el funcionamiento correcto del código"
   ]
  },
  {
   "cell_type": "code",
   "execution_count": 1,
   "metadata": {},
   "outputs": [],
   "source": [
    "import psycopg2\n",
    "import json\n",
    "import os"
   ]
  },
  {
   "cell_type": "markdown",
   "metadata": {},
   "source": [
    "## Configuración de la Conexión\n",
    "A continuación, se leen y extraen las credenciales para hacer la conexión a PostgreSQL. Seguido de la realización de la conexión a la base de datos almacenada en PostgreSQL. "
   ]
  },
  {
   "cell_type": "code",
   "execution_count": null,
   "metadata": {},
   "outputs": [],
   "source": [
    "with open(\"credentials.json\", \"r\", encoding=\"utf-8\") as file:\n",
    "    credentials = json.load(file)"
   ]
  },
  {
   "cell_type": "code",
   "execution_count": null,
   "metadata": {},
   "outputs": [],
   "source": [
    "db_host = credentials[\"db_host\"]\n",
    "db_name = credentials[\"db_name\"]\n",
    "db_user = credentials[\"db_user\"]\n",
    "db_password = credentials[\"db_password\"]\n",
    "db_port = credentials[\"db_port\"] \n",
    "\n",
    "conn = psycopg2.connect(\n",
    "    host=db_host,\n",
    "    dbname=db_name,\n",
    "    user=db_user,\n",
    "    password=db_password,\n",
    "    port=db_port\n",
    ")"
   ]
  },
  {
   "cell_type": "markdown",
   "metadata": {},
   "source": [
    "Se establece un cursor que permite ejecutar comandos SQL, para seguidamente hacer la creación de la tabla en la base de datos que contenga los datos sin procesar. "
   ]
  },
  {
   "cell_type": "code",
   "execution_count": null,
   "metadata": {},
   "outputs": [],
   "source": [
    "cur = conn.cursor()\n",
    "\n",
    "cur.execute(\"\"\"CREATE TABLE leukemia_raw_data (\n",
    "            patient_id SERIAL PRIMARY KEY,\n",
    "            age INTEGER,\n",
    "            gender TEXT ,\n",
    "            country TEXT,\n",
    "            wbc_count INTEGER,\n",
    "            rbc_count NUMERIC(5,2),\n",
    "            platelet_count INTEGER,\n",
    "            hemoglobin_level NUMERIC(5,2),\n",
    "            bone_marrow_blasts INTEGER,\n",
    "            genetic_mutation TEXT,\n",
    "            family_history TEXT,\n",
    "            smoking_status TEXT,\n",
    "            alcohol_consumption TEXT,\n",
    "            radiation_exposure TEXT,\n",
    "            infection_history TEXT,\n",
    "            bmi NUMERIC(5,2),\n",
    "            chronic_illness TEXT,\n",
    "            immune_disorders TEXT,\n",
    "            ethnicity TEXT,\n",
    "            socioeconomic_status TEXT,\n",
    "            urban_rural TEXT,\n",
    "            leukemia_status TEXT\n",
    "        );\n",
    "\"\"\")\n",
    "conn.commit()"
   ]
  },
  {
   "cell_type": "code",
   "execution_count": 5,
   "metadata": {},
   "outputs": [
    {
     "name": "stdout",
     "output_type": "stream",
     "text": [
      "c:\\Users\\valen\\Desktop\\Leukemia-Cancer-Risk-ETL\n"
     ]
    }
   ],
   "source": [
    "os.chdir(\"..\")\n",
    "print(os.getcwd())"
   ]
  },
  {
   "cell_type": "markdown",
   "metadata": {},
   "source": [
    "Finalmente, se construye la ruta del archivo CSV y se hace la carga de datos a la tabla creada previamente."
   ]
  },
  {
   "cell_type": "code",
   "execution_count": 6,
   "metadata": {},
   "outputs": [],
   "source": [
    "csv_file_path = os.path.join(os.getcwd(), \"data\", \"biased_leukemia_dataset.csv\")\n",
    "\n",
    "table_name = 'leukemia_raw_data'\n",
    "\n",
    "copy_sql = f\"\"\"\n",
    "           COPY {table_name} FROM stdin \n",
    "           DELIMITER as ','\n",
    "           CSV HEADER\n",
    "           \"\"\"\n",
    "with open(csv_file_path, 'r') as f:\n",
    "    cur.copy_expert(sql=copy_sql, file=f)\n",
    "\n",
    "conn.commit()\n",
    "\n",
    "conn.close()"
   ]
  }
 ],
 "metadata": {
  "kernelspec": {
   "display_name": "venv",
   "language": "python",
   "name": "python3"
  },
  "language_info": {
   "codemirror_mode": {
    "name": "ipython",
    "version": 3
   },
   "file_extension": ".py",
   "mimetype": "text/x-python",
   "name": "python",
   "nbconvert_exporter": "python",
   "pygments_lexer": "ipython3",
   "version": "3.11.9"
  }
 },
 "nbformat": 4,
 "nbformat_minor": 2
}
