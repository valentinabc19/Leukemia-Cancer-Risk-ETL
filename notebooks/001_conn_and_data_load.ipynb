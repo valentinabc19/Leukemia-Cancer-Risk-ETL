{
 "cells": [
  {
   "cell_type": "markdown",
   "metadata": {},
   "source": [
    "# Database Connection and Initial Data Load  \n",
    "\n",
    "This notebook is part of the data analysis workflow. Its objective is to connect to the database and extract raw data for further processing."
   ]
  },
  {
   "cell_type": "markdown",
   "metadata": {},
   "source": [
    "To begin, the necessary libraries are imported to ensure the correct functioning of the code."
   ]
  },
  {
   "cell_type": "code",
   "execution_count": 1,
   "metadata": {},
   "outputs": [],
   "source": [
    "import psycopg2\n",
    "import json\n",
    "import os"
   ]
  },
  {
   "cell_type": "markdown",
   "metadata": {},
   "source": [
    "## Connection Configuration  \n",
    "The credentials are read and extracted to establish a connection to PostgreSQL. Then, the connection to the database stored in PostgreSQL is established."
   ]
  },
  {
   "cell_type": "code",
   "execution_count": 4,
   "metadata": {},
   "outputs": [
    {
     "name": "stdout",
     "output_type": "stream",
     "text": [
      "/home/ubuntu/Escritorio\n"
     ]
    }
   ],
   "source": [
    "try:\n",
    "    os.chdir(\"../../Leukemia-Cancer-Risk-ETL\")\n",
    "except FileNotFoundError:\n",
    "    print(\"\"\"\n",
    "        FileNotFoundError - The directory may not exist or you are not located in the specified path.\n",
    "        \"\"\")\n",
    "os.chdir(\"..\")\n",
    "print(os.getcwd())"
   ]
  },
  {
   "cell_type": "code",
   "execution_count": 8,
   "metadata": {},
   "outputs": [],
   "source": [
    "with open(\"Leukemia-Cancer-Risk-ETL/credentials.json\", \"r\", encoding=\"utf-8\") as file:\n",
    "    credentials = json.load(file)"
   ]
  },
  {
   "cell_type": "code",
   "execution_count": 9,
   "metadata": {},
   "outputs": [],
   "source": [
    "db_host = credentials[\"db_host\"]\n",
    "db_name = credentials[\"db_name\"]\n",
    "db_user = credentials[\"db_user\"]\n",
    "db_password = credentials[\"db_password\"]\n",
    "db_port = credentials[\"db_port\"] \n",
    "\n",
    "conn = psycopg2.connect(\n",
    "    host=db_host,\n",
    "    dbname=db_name,\n",
    "    user=db_user,\n",
    "    password=db_password,\n",
    "    port=db_port\n",
    ")"
   ]
  },
  {
   "cell_type": "markdown",
   "metadata": {},
   "source": [
    "A cursor is established to execute SQL commands, followed by the creation of a table in the database to store the raw data."
   ]
  },
  {
   "cell_type": "code",
   "execution_count": 10,
   "metadata": {},
   "outputs": [],
   "source": [
    "cur = conn.cursor()\n",
    "\n",
    "cur.execute(\"\"\"CREATE TABLE leukemia_raw_data (\n",
    "            patient_id SERIAL PRIMARY KEY,\n",
    "            age INTEGER,\n",
    "            gender TEXT ,\n",
    "            country TEXT,\n",
    "            wbc_count INTEGER,\n",
    "            rbc_count NUMERIC(5,2),\n",
    "            platelet_count INTEGER,\n",
    "            hemoglobin_level NUMERIC(5,2),\n",
    "            bone_marrow_blasts INTEGER,\n",
    "            genetic_mutation TEXT,\n",
    "            family_history TEXT,\n",
    "            smoking_status TEXT,\n",
    "            alcohol_consumption TEXT,\n",
    "            radiation_exposure TEXT,\n",
    "            infection_history TEXT,\n",
    "            bmi NUMERIC(5,2),\n",
    "            chronic_illness TEXT,\n",
    "            immune_disorders TEXT,\n",
    "            ethnicity TEXT,\n",
    "            socioeconomic_status TEXT,\n",
    "            urban_rural TEXT,\n",
    "            leukemia_status TEXT\n",
    "        );\n",
    "\"\"\")\n",
    "conn.commit()"
   ]
  },
  {
   "cell_type": "markdown",
   "metadata": {},
   "source": [
    "Finally, the CSV file path is built, and the data is loaded into the previously created table."
   ]
  },
  {
   "cell_type": "code",
   "execution_count": 12,
   "metadata": {},
   "outputs": [],
   "source": [
    "\n",
    "csv_file_path = os.path.join(os.getcwd(), \"Leukemia-Cancer-Risk-ETL\", \"data\", \"biased_leukemia_dataset.csv\")\n",
    "\n",
    "table_name = 'leukemia_raw_data'\n",
    "\n",
    "copy_sql = f\"\"\"\n",
    "           COPY {table_name} FROM stdin \n",
    "           DELIMITER as ','\n",
    "           CSV HEADER\n",
    "           \"\"\"\n",
    "with open(csv_file_path, 'r') as f:\n",
    "    cur.copy_expert(sql=copy_sql, file=f)\n",
    "\n",
    "conn.commit()\n",
    "\n",
    "conn.close()\n",
    "\n"
   ]
  }
 ],
 "metadata": {
  "kernelspec": {
   "display_name": "venv",
   "language": "python",
   "name": "python3"
  },
  "language_info": {
   "codemirror_mode": {
    "name": "ipython",
    "version": 3
   },
   "file_extension": ".py",
   "mimetype": "text/x-python",
   "name": "python",
   "nbconvert_exporter": "python",
   "pygments_lexer": "ipython3",
   "version": "3.12.3"
  }
 },
 "nbformat": 4,
 "nbformat_minor": 2
}
